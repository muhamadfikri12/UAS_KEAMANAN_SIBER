{
 "cells": [
  {
   "cell_type": "markdown",
   "id": "9dd0d1bd",
   "metadata": {},
   "source": [
    "<b>Nama : Muhamad Fikri </b><br>\n",
    "<b>NIM  : I.2111733 </b><br>\n",
    "<b>UAS  : Keamanan Siber </b><br>"
   ]
  },
  {
   "cell_type": "markdown",
   "id": "f953492c",
   "metadata": {},
   "source": [
    "# NO. 1\n"
   ]
  },
  {
   "cell_type": "markdown",
   "id": "741acfe4",
   "metadata": {},
   "source": [
    "Menurut saya, Reverse proxy dan forward proxy adalah dua konsep yang berbeda dalam pengaturan jaringan komputer. Berikut adalah perbedaan utama antara keduanya:\n",
    "\n",
    "Dari segi Arah Layanan:\n",
    "\n",
    "- Reverse Proxy: Menerima permintaan dari klien (seperti browser web) dan meneruskannya ke server backend. Ini berarti klien berinteraksi dengan reverse proxy, yang kemudian bertindak sebagai perantara untuk mengirim permintaan ke server akhir.\n",
    "\n",
    "- Forward Proxy: Menerima permintaan dari klien dan meneruskannya ke server eksternal. Ini berarti klien sebenarnya tidak berinteraksi langsung dengan server eksternal; semua permintaan dan respons melewati proxy terlebih dahulu.\n",
    "\n",
    "Dari segi Lokasi:\n",
    "\n",
    "- Reverse Proxy: Biasanya ditempatkan di depan server backend. Ini membantu menyembunyikan infrastruktur di belakangnya dan memungkinkan administrasi yang lebih mudah, penanganan beban, serta keamanan.\n",
    "\n",
    "- Forward Proxy: Biasanya ditempatkan di depan klien. Ini digunakan untuk menyembunyikan identitas klien dan memberikan akses ke sumber daya di internet atau jaringan lain.\n",
    "\n",
    "Dari segi Tujuan:\n",
    "\n",
    "- Reverse Proxy: Biasanya digunakan untuk meneruskan permintaan ke berbagai server di belakangnya, menyediakan mekanisme penyeimbangan beban, caching, pengiriman respons yang dioptimalkan, serta keamanan tambahan seperti proteksi DDoS atau kebijakan akses.\n",
    "\n",
    "- Forward Proxy: Digunakan untuk mengakses sumber daya di luar jaringan lokal. Ini sering digunakan di lingkungan korporat untuk mengontrol dan memantau lalu lintas keluar, menerapkan kebijakan akses internet, dan menyediakan anonimitas untuk klien.\n",
    "\n",
    "Dari segi Konfigurasi:\n",
    "\n",
    "- Reverse Proxy: Biasanya dikonfigurasi oleh pemilik server backend, memungkinkan mereka untuk mengendalikan bagaimana permintaan dari klien ditangani oleh server backend.\n",
    "\n",
    "- Forward Proxy: Dikonfigurasi oleh pengguna atau administrator jaringan, biasanya di perangkat jaringan atau perangkat lunak klien, seperti browser web atau aplikasi khusus."
   ]
  },
  {
   "cell_type": "markdown",
   "id": "60952115",
   "metadata": {},
   "source": [
    "# NO. 2"
   ]
  },
  {
   "cell_type": "markdown",
   "id": "f4657664",
   "metadata": {},
   "source": [
    "Metasploit Framework adalah platform perangkat lunak open source yang digunakan untuk pengujian penetrasi dan pengembangan eksploitasi keamanan. Dikembangkan oleh Rapid7, Metasploit Framework menyediakan serangkaian alat dan modul yang dapat digunakan oleh para profesional keamanan informasi untuk menguji keamanan sistem, menemukan kerentanan, dan menguji skenario serangan.\n",
    "\n",
    "Beberapa fungsi dan penggunaan utama Metasploit Framework meliputi:\n",
    "\n",
    "- Pengujian Penetrasi (Penetration Testing)\n",
    "- Eksploitasi Kerentanan\n",
    "- Pembuatan dan Pengujian Payload:\n",
    "- Manajemen Jaringan:\n",
    "- Pendidikan dan Pelatihan:"
   ]
  },
  {
   "cell_type": "markdown",
   "id": "1c4eb577",
   "metadata": {},
   "source": [
    "# NO. 3"
   ]
  },
  {
   "cell_type": "markdown",
   "id": "aaa5e056",
   "metadata": {},
   "source": [
    "Firewall, IDS (Intrusion Detection System), dan IPS (Intrusion Prevention System) adalah tiga teknologi keamanan jaringan yang berbeda dengan fungsi dan tujuan yang berbeda pula. Berikut adalah perbedaan utama antara ketiganya:\n",
    "\n",
    "> Firewall adalah sistem keamanan jaringan yang digunakan untuk mengontrol dan memantau lalu lintas jaringan antara jaringan internal dan eksternal. Tujuan utama firewall adalah untuk memfilter lalu lintas jaringan berdasarkan aturan yang telah ditentukan, seperti blokir atau mengizinkan paket data berdasarkan alamat IP, port, protokol, atau jenis aplikasi. Contoh dari Firewall dapat mengizinkan akses HTTP (port 80) ke server web internal sementara memblokir akses ke protokol RDP (Remote Desktop Protocol) dari luar jaringan.\n",
    "\n",
    "> IDS (Intrusion Detection System) adalah sistem keamanan jaringan yang dirancang untuk mendeteksi dan memberi peringatan tentang aktivitas mencurigakan atau serangan keamanan di dalam jaringan. Tujuan utama IDS adalah untuk memantau lalu lintas jaringan dan sistem untuk mendeteksi pola yang tidak biasa atau tanda-tanda serangan seperti serangan DDoS, pemindaian port, atau percobaan akses yang tidak sah. Contoh dari IDS dapat mendeteksi serangan brute force terhadap server SSH atau upaya pemindaian port yang mencurigakan dari sumber eksternal.<br>\n",
    "\n",
    "> IPS (Intrusion Prevention System) adalah sistem keamanan jaringan yang bertindak untuk secara proaktif mencegah serangan keamanan dengan merespons secara otomatis terhadap serangan yang dideteksi. Tujuan utama IPS adalah untuk tidak hanya mendeteksi serangan, tetapi juga untuk mengambil tindakan otomatis untuk mencegah serangan tersebut dari merusak sistem atau jaringan. Contohnya Jika IPS mendeteksi serangan DDoS, ia dapat secara otomatis mengkonfigurasi firewall untuk memblokir alamat IP yang terlibat dalam serangan tersebut."
   ]
  },
  {
   "cell_type": "markdown",
   "id": "23496449",
   "metadata": {},
   "source": [
    "# NO. 4\n"
   ]
  },
  {
   "cell_type": "markdown",
   "id": "ef3f5018",
   "metadata": {},
   "source": [
    "> GDPR (General Data Protection Regulation) adalah peraturan privasi dan perlindungan data yang diberlakukan di Uni Eropa (EU) dan Wilayah Ekonomi Eropa (EEA). GDPR ditetapkan untuk memberikan perlindungan yang lebih kuat bagi individu terkait pengolahan data pribadi mereka. Tujuan utama dari GDPR adalah memberikan kontrol yang lebih besar kepada individu atas data pribadi mereka dan meningkatkan tanggung jawab organisasi yang memproses data tersebut. General Data Protection Regulation (GDPR) mulai diberlakukan sejak 25 Mei 2018 dan disahkan oleh otoritas pemerintahan di Uni Eropa.\n",
    "\n",
    "> PDP (Personal Data Protection) adalah istilah umum yang mengacu pada upaya perlindungan data pribadi individu dari penggunaan yang tidak sah atau tidak sah. Ini mencakup berbagai peraturan, kebijakan, dan praktik yang dirancang untuk memastikan bahwa data pribadi diperlakukan dengan benar dan sesuai dengan kebijakan privasi yang relevan. Perlindungan Data Pribadi (PDP) ditetapkan 7 November 2016, diundangkan dan berlaku sejak 1 Desember 2016."
   ]
  },
  {
   "cell_type": "markdown",
   "id": "c058e455",
   "metadata": {},
   "source": [
    "# NO. 5"
   ]
  },
  {
   "cell_type": "markdown",
   "id": "373e7e70",
   "metadata": {},
   "source": [
    "OWASP (Open Web Application Security Project) sering dijadikan acuan dalam konteks keamanan perangkat lunak karena alasan-alasan berikut:\n",
    "\n",
    "> Kerangka Kerja yang Komprehensif: OWASP menyediakan kerangka kerja yang komprehensif untuk memahami, mengidentifikasi, dan mengatasi kerentanan keamanan dalam perangkat lunak. Ini mencakup berbagai risiko keamanan yang umum dijumpai dalam aplikasi web, serta saran praktis untuk melindungi aplikasi dari serangan tersebut.\n",
    "\n",
    "> Keterbukaan dan Kolaborasi: OWASP adalah proyek open source yang memungkinkan kolaborasi terbuka dari para profesional keamanan di seluruh dunia. Keterbukaan ini memastikan bahwa panduan, alat, dan sumber daya yang disediakan oleh OWASP menggabungkan berbagai perspektif dan pengalaman dari komunitas keamanan.\n",
    "\n",
    "> Peringkat Risiko: OWASP menyusun daftar 10 Risiko Keamanan Aplikasi Web Teratas (OWASP Top 10), yang merupakan rangkuman dari sepuluh kerentanan keamanan yang paling umum dijumpai dalam aplikasi web. Daftar ini memberikan fokus yang jelas bagi pengembang dan profesional keamanan untuk memprioritaskan upaya penyelesaian.\n",
    "\n",
    "> Pembaruan Berkala: OWASP secara teratur memperbarui panduan, alat, dan sumber daya lainnya untuk mencerminkan perubahan dalam ancaman keamanan dan teknologi. Ini memastikan bahwa informasi yang disediakan selalu relevan dengan tren terbaru dalam keamanan perangkat lunak.\n",
    "\n",
    "> Dukungan Komunitas yang Luas: OWASP memiliki komunitas global yang luas dari para profesional keamanan, pengembang perangkat lunak, dan peneliti yang berkontribusi pada proyek-proyek OWASP. Dukungan komunitas ini memberikan legitimasi dan keandalan pada sumber daya yang disediakan oleh OWASP.\n",
    "\n",
    "Dengan demikian, OWASP menjadi acuan yang penting dalam konteks keamanan perangkat lunak karena menyediakan kerangka kerja yang komprehensif, keterbukaan dan kolaborasi, peringkat risiko yang jelas, pembaruan berkala, dan dukungan dari komunitas yang luas. Hal ini membuat OWASP menjadi sumber daya yang penting bagi para profesional keamanan untuk memahami, mengidentifikasi, dan mengatasi risiko keamanan dalam perangkat lunak."
   ]
  },
  {
   "cell_type": "markdown",
   "id": "3525c460",
   "metadata": {},
   "source": [
    "# NO. 6\n"
   ]
  },
  {
   "cell_type": "markdown",
   "id": "8ebc9834",
   "metadata": {},
   "source": [
    "Link Badge Cyber Security:\n",
    "https://www.credly.com/badges/336e7942-6a88-46a1-b713-4777ae903932/public_url\n",
    "<br>\n",
    "Link Sertifikat Cyber Security:\n",
    "https://drive.google.com/file/d/1AU4bIcVGBdC9VTsSV_vYolUpbcqQe09A/view?usp=sharing"
   ]
  },
  {
   "cell_type": "code",
   "execution_count": null,
   "id": "dd30b7d1",
   "metadata": {},
   "outputs": [],
   "source": []
  }
 ],
 "metadata": {
  "kernelspec": {
   "display_name": "Python 3 (ipykernel)",
   "language": "python",
   "name": "python3"
  },
  "language_info": {
   "codemirror_mode": {
    "name": "ipython",
    "version": 3
   },
   "file_extension": ".py",
   "mimetype": "text/x-python",
   "name": "python",
   "nbconvert_exporter": "python",
   "pygments_lexer": "ipython3",
   "version": "3.11.4"
  }
 },
 "nbformat": 4,
 "nbformat_minor": 5
}
